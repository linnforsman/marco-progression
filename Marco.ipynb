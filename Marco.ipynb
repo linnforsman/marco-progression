{
 "cells": [
  {
   "cell_type": "markdown",
   "source": "# Marco Shiba Inu",
   "metadata": {
    "tags": [],
    "is_collapsed": false,
    "cell_id": "00000-c3df8bac-7ee6-4afe-824a-01fcd9338a84",
    "deepnote_app_coordinates": {
     "x": 0,
     "y": 0,
     "w": 12,
     "h": 2
    },
    "deepnote_cell_type": "text-cell-h1"
   }
  },
  {
   "cell_type": "markdown",
   "source": "### Data visualisering av Shiba Inu hund \"Marco\" fremgang",
   "metadata": {
    "tags": [],
    "is_collapsed": false,
    "cell_id": "00001-a971d498-983e-4ebc-ab28-84234fccc5b5",
    "deepnote_app_coordinates": {
     "x": 0,
     "y": 3,
     "w": 12,
     "h": 2
    },
    "deepnote_cell_type": "text-cell-h3"
   }
  },
  {
   "cell_type": "code",
   "metadata": {
    "deepnote_variable_name": "URL",
    "deepnote_variable_value": "https://docs.google.com/spreadsheets/d/1vmwSTu1_6QEX1tVUMkcPqoBSva1AgAbq51R-7yawBG8/edit?usp=sharing",
    "cell_id": "00001-cccd0f9f-8793-4394-a3ca-6c710216527d",
    "deepnote_to_be_reexecuted": false,
    "source_hash": "5678825c",
    "execution_start": 1638369174042,
    "execution_millis": 1,
    "deepnote_app_coordinates": {
     "x": 0,
     "y": 6,
     "w": 8,
     "h": 4
    },
    "deepnote_cell_type": "input-text"
   },
   "source": "URL = 'https://docs.google.com/spreadsheets/d/1vmwSTu1_6QEX1tVUMkcPqoBSva1AgAbq51R-7yawBG8/edit?usp=sharing'",
   "outputs": [],
   "execution_count": null
  },
  {
   "cell_type": "code",
   "metadata": {
    "tags": [],
    "cell_id": "00003-fb770496-4aaf-48fb-96b3-d617b36ba411",
    "deepnote_to_be_reexecuted": false,
    "source_hash": "cbad584f",
    "execution_start": 1638369174043,
    "execution_millis": 1,
    "is_code_hidden": false,
    "deepnote_app_is_code_hidden": false,
    "deepnote_cell_type": "code"
   },
   "source": "import pandas as pd\nimport re\n\n# This function will convert the url to a download link\ndef convert_gsheets_url(u):\n    try:\n        worksheet_id = u.split('#gid=')[1]\n    except:\n        # Couldn't get worksheet id. Ignore it\n        worksheet_id = None\n    u = re.findall('https://docs.google.com/spreadsheets/d/.*?/',u)[0]\n    u += 'export'\n    u += '?format=csv'\n    if worksheet_id:\n        u += '&gid={}'.format(worksheet_id)\n    return u",
   "outputs": [],
   "execution_count": null
  },
  {
   "cell_type": "code",
   "metadata": {
    "tags": [],
    "cell_id": "00004-c267745f-4314-46ae-8cc1-193f5991e48a",
    "deepnote_to_be_reexecuted": false,
    "source_hash": "8d89ebf4",
    "execution_start": 1638369174068,
    "execution_millis": 332,
    "is_code_hidden": false,
    "deepnote_app_is_code_hidden": true,
    "deepnote_cell_type": "code"
   },
   "source": "sample_url = 'https://docs.google.com/spreadsheets/d/1vmwSTu1_6QEX1tVUMkcPqoBSva1AgAbq51R-7yawBG8/edit?usp=sharing'\ntry:\n    url = convert_gsheets_url(URL)\n    df = pd.read_csv(url)\n    print('Read successfully')\nexcept:\n    print(f\"Could not read any data from the URL you provided.\\nReading from {sample_url} instead.\")\n    url = convert_gsheets_url(sample_url)\n    df = pd.read_csv(url)",
   "outputs": [
    {
     "name": "stdout",
     "text": "Read successfully\n",
     "output_type": "stream"
    }
   ],
   "execution_count": null
  },
  {
   "cell_type": "code",
   "metadata": {
    "tags": [],
    "cell_id": "00006-377d0ab3-7a63-4900-812c-d20c3dc00c19",
    "deepnote_to_be_reexecuted": false,
    "source_hash": "f30f989a",
    "execution_start": 1638369174400,
    "execution_millis": 143,
    "deepnote_app_is_code_hidden": true,
    "deepnote_cell_type": "code"
   },
   "source": "df.head(10)",
   "outputs": [
    {
     "output_type": "execute_result",
     "execution_count": 4,
     "data": {
      "application/vnd.deepnote.dataframe.v2+json": {
       "row_count": 10,
       "column_count": 9,
       "columns": [
        {
         "name": "Ukenummer",
         "dtype": "int64",
         "stats": {
          "unique_count": 10,
          "nan_count": 0,
          "min": "0",
          "max": "9",
          "histogram": [
           {
            "bin_start": 0,
            "bin_end": 0.9,
            "count": 1
           },
           {
            "bin_start": 0.9,
            "bin_end": 1.8,
            "count": 1
           },
           {
            "bin_start": 1.8,
            "bin_end": 2.7,
            "count": 1
           },
           {
            "bin_start": 2.7,
            "bin_end": 3.6,
            "count": 1
           },
           {
            "bin_start": 3.6,
            "bin_end": 4.5,
            "count": 1
           },
           {
            "bin_start": 4.5,
            "bin_end": 5.4,
            "count": 1
           },
           {
            "bin_start": 5.4,
            "bin_end": 6.3,
            "count": 1
           },
           {
            "bin_start": 6.3,
            "bin_end": 7.2,
            "count": 1
           },
           {
            "bin_start": 7.2,
            "bin_end": 8.1,
            "count": 1
           },
           {
            "bin_start": 8.1,
            "bin_end": 9,
            "count": 1
           }
          ]
         }
        },
        {
         "name": "Ukestart",
         "dtype": "object",
         "stats": {
          "unique_count": 10,
          "nan_count": 0,
          "categories": [
           {
            "name": "04.10.2021",
            "count": 1
           },
           {
            "name": "11.10.2021",
            "count": 1
           },
           {
            "name": "8 others",
            "count": 8
           }
          ]
         }
        },
        {
         "name": "Ukeslutt",
         "dtype": "object",
         "stats": {
          "unique_count": 10,
          "nan_count": 0,
          "categories": [
           {
            "name": "10.10.2021",
            "count": 1
           },
           {
            "name": "17.10.2021",
            "count": 1
           },
           {
            "name": "8 others",
            "count": 8
           }
          ]
         }
        },
        {
         "name": "Range",
         "dtype": "object",
         "stats": {
          "unique_count": 10,
          "nan_count": 0,
          "categories": [
           {
            "name": "4/10/2021  til 10/10/2021",
            "count": 1
           },
           {
            "name": "11/10/2021  til 17/10/2021",
            "count": 1
           },
           {
            "name": "8 others",
            "count": 8
           }
          ]
         }
        },
        {
         "name": "Vekt i gram",
         "dtype": "float64",
         "stats": {
          "unique_count": 6,
          "nan_count": 4,
          "min": "278.0",
          "max": "3100.0",
          "histogram": [
           {
            "bin_start": 278,
            "bin_end": 560.2,
            "count": 2
           },
           {
            "bin_start": 560.2,
            "bin_end": 842.4,
            "count": 0
           },
           {
            "bin_start": 842.4,
            "bin_end": 1124.6,
            "count": 1
           },
           {
            "bin_start": 1124.6,
            "bin_end": 1406.8,
            "count": 1
           },
           {
            "bin_start": 1406.8,
            "bin_end": 1689,
            "count": 1
           },
           {
            "bin_start": 1689,
            "bin_end": 1971.1999999999998,
            "count": 0
           },
           {
            "bin_start": 1971.1999999999998,
            "bin_end": 2253.3999999999996,
            "count": 0
           },
           {
            "bin_start": 2253.3999999999996,
            "bin_end": 2535.6,
            "count": 0
           },
           {
            "bin_start": 2535.6,
            "bin_end": 2817.7999999999997,
            "count": 0
           },
           {
            "bin_start": 2817.7999999999997,
            "bin_end": 3100,
            "count": 1
           }
          ]
         }
        },
        {
         "name": "Tid ute",
         "dtype": "float64",
         "stats": {
          "unique_count": 2,
          "nan_count": 2,
          "min": "0.0",
          "max": "4.0",
          "histogram": [
           {
            "bin_start": 0,
            "bin_end": 0.4,
            "count": 7
           },
           {
            "bin_start": 0.4,
            "bin_end": 0.8,
            "count": 0
           },
           {
            "bin_start": 0.8,
            "bin_end": 1.2000000000000002,
            "count": 0
           },
           {
            "bin_start": 1.2000000000000002,
            "bin_end": 1.6,
            "count": 0
           },
           {
            "bin_start": 1.6,
            "bin_end": 2,
            "count": 0
           },
           {
            "bin_start": 2,
            "bin_end": 2.4000000000000004,
            "count": 0
           },
           {
            "bin_start": 2.4000000000000004,
            "bin_end": 2.8000000000000003,
            "count": 0
           },
           {
            "bin_start": 2.8000000000000003,
            "bin_end": 3.2,
            "count": 0
           },
           {
            "bin_start": 3.2,
            "bin_end": 3.6,
            "count": 0
           },
           {
            "bin_start": 3.6,
            "bin_end": 4,
            "count": 1
           }
          ]
         }
        },
        {
         "name": "Kommentar",
         "dtype": "object",
         "stats": {
          "unique_count": 9,
          "nan_count": 1,
          "categories": [
           {
            "name": "Marco ble født.",
            "count": 1
           },
           {
            "name": "8 others",
            "count": 8
           },
           {
            "name": "Missing",
            "count": 1
           }
          ]
         }
        },
        {
         "name": "Unnamed: 7",
         "dtype": "object",
         "stats": {
          "unique_count": 1,
          "nan_count": 7,
          "categories": [
           {
            "name": "SOSIALISSERING!",
            "count": 3
           },
           {
            "name": "Missing",
            "count": 7
           }
          ]
         }
        },
        {
         "name": "Unnamed: 8",
         "dtype": "float64",
         "stats": {
          "unique_count": 3,
          "nan_count": 0,
          "min": "1.0",
          "max": "3.0",
          "histogram": [
           {
            "bin_start": 1,
            "bin_end": 1.2,
            "count": 4
           },
           {
            "bin_start": 1.2,
            "bin_end": 1.4,
            "count": 0
           },
           {
            "bin_start": 1.4,
            "bin_end": 1.6,
            "count": 0
           },
           {
            "bin_start": 1.6,
            "bin_end": 1.8,
            "count": 0
           },
           {
            "bin_start": 1.8,
            "bin_end": 2,
            "count": 0
           },
           {
            "bin_start": 2,
            "bin_end": 2.2,
            "count": 4
           },
           {
            "bin_start": 2.2,
            "bin_end": 2.4000000000000004,
            "count": 0
           },
           {
            "bin_start": 2.4000000000000004,
            "bin_end": 2.6,
            "count": 0
           },
           {
            "bin_start": 2.6,
            "bin_end": 2.8,
            "count": 0
           },
           {
            "bin_start": 2.8,
            "bin_end": 3,
            "count": 2
           }
          ]
         }
        },
        {
         "name": "_deepnote_index_column",
         "dtype": "int64"
        }
       ],
       "rows_top": [
        {
         "Ukenummer": 0,
         "Ukestart": "04.10.2021",
         "Ukeslutt": "10.10.2021",
         "Range": "4/10/2021  til 10/10/2021",
         "Vekt i gram": 278,
         "Tid ute": 0,
         "Kommentar": "Marco ble født.",
         "Unnamed: 7": "nan",
         "Unnamed: 8": 1,
         "_deepnote_index_column": 0
        },
        {
         "Ukenummer": 1,
         "Ukestart": "11.10.2021",
         "Ukeslutt": "17.10.2021",
         "Range": "11/10/2021  til 17/10/2021",
         "Vekt i gram": 510,
         "Tid ute": 0,
         "Kommentar": "Marco er 1 uke.",
         "Unnamed: 7": "nan",
         "Unnamed: 8": 1,
         "_deepnote_index_column": 1
        },
        {
         "Ukenummer": 2,
         "Ukestart": "18.10.2021",
         "Ukeslutt": "24.10.2021",
         "Range": "18/10/2021  til 24/10/2021",
         "Vekt i gram": 900,
         "Tid ute": 0,
         "Kommentar": "Marco er 2 uker.",
         "Unnamed: 7": "nan",
         "Unnamed: 8": 1,
         "_deepnote_index_column": 2
        },
        {
         "Ukenummer": 3,
         "Ukestart": "25.10.2021",
         "Ukeslutt": "31.10.2021",
         "Range": "25/10/2021  til 31/10/2021",
         "Vekt i gram": 1272,
         "Tid ute": 0,
         "Kommentar": "Marco er 3 uker.",
         "Unnamed: 7": "nan",
         "Unnamed: 8": 1,
         "_deepnote_index_column": 3
        },
        {
         "Ukenummer": 4,
         "Ukestart": "01.11.2021",
         "Ukeslutt": "07.11.2021",
         "Range": "1/11/2021  til 7/11/2021",
         "Vekt i gram": 1530,
         "Tid ute": 0,
         "Kommentar": "Marco er 4 uker.",
         "Unnamed: 7": "nan",
         "Unnamed: 8": 2,
         "_deepnote_index_column": 4
        },
        {
         "Ukenummer": 5,
         "Ukestart": "08.11.2021",
         "Ukeslutt": "14.11.2021",
         "Range": "8/11/2021  til 14/11/2021",
         "Vekt i gram": "nan",
         "Tid ute": 0,
         "Kommentar": "Marco er 5 uker.",
         "Unnamed: 7": "nan",
         "Unnamed: 8": 2,
         "_deepnote_index_column": 5
        },
        {
         "Ukenummer": 6,
         "Ukestart": "15.11.2021",
         "Ukeslutt": "21.11.2021",
         "Range": "15/11/2021  til 21/11/2021",
         "Vekt i gram": "nan",
         "Tid ute": 0,
         "Kommentar": "Marco er 6 uker.",
         "Unnamed: 7": "nan",
         "Unnamed: 8": 2,
         "_deepnote_index_column": 6
        },
        {
         "Ukenummer": 7,
         "Ukestart": "22.11.2021",
         "Ukeslutt": "28.11.2021",
         "Range": "22/11/2021  til 28/11/2021",
         "Vekt i gram": "nan",
         "Tid ute": 4,
         "Kommentar": "Marco er 7 uker, ble hentet i Åros 26/11 2021. Kom til sitt nye hjem på Åsen 43 i Ulsteinvik 27/11 …",
         "Unnamed: 7": "SOSIALISSERING!",
         "Unnamed: 8": 2,
         "_deepnote_index_column": 7
        },
        {
         "Ukenummer": 8,
         "Ukestart": "29.11.2021",
         "Ukeslutt": "05.12.2021",
         "Range": "29/11/2021  til 5/12/2021",
         "Vekt i gram": 3100,
         "Tid ute": "nan",
         "Kommentar": "Marco er 8 uker. Første uke på Åsen 43. Begynt med \"sitt\" og \"Marco\".",
         "Unnamed: 7": "SOSIALISSERING!",
         "Unnamed: 8": 3,
         "_deepnote_index_column": 8
        },
        {
         "Ukenummer": 9,
         "Ukestart": "06.12.2021",
         "Ukeslutt": "12.12.2021",
         "Range": "6/12/2021  til 12/12/2021",
         "Vekt i gram": "nan",
         "Tid ute": "nan",
         "Kommentar": "nan",
         "Unnamed: 7": "SOSIALISSERING!",
         "Unnamed: 8": 3,
         "_deepnote_index_column": 9
        }
       ],
       "rows_bottom": null
      },
      "text/plain": "   Ukenummer    Ukestart    Ukeslutt                       Range  Vekt i gram  \\\n0          0  04.10.2021  10.10.2021   4/10/2021  til 10/10/2021        278.0   \n1          1  11.10.2021  17.10.2021  11/10/2021  til 17/10/2021        510.0   \n2          2  18.10.2021  24.10.2021  18/10/2021  til 24/10/2021        900.0   \n3          3  25.10.2021  31.10.2021  25/10/2021  til 31/10/2021       1272.0   \n4          4  01.11.2021  07.11.2021    1/11/2021  til 7/11/2021       1530.0   \n5          5  08.11.2021  14.11.2021   8/11/2021  til 14/11/2021          NaN   \n6          6  15.11.2021  21.11.2021  15/11/2021  til 21/11/2021          NaN   \n7          7  22.11.2021  28.11.2021  22/11/2021  til 28/11/2021          NaN   \n8          8  29.11.2021  05.12.2021   29/11/2021  til 5/12/2021       3100.0   \n9          9  06.12.2021  12.12.2021   6/12/2021  til 12/12/2021          NaN   \n\n   Tid ute                                          Kommentar  \\\n0      0.0                                    Marco ble født.   \n1      0.0                                    Marco er 1 uke.   \n2      0.0                                   Marco er 2 uker.   \n3      0.0                                   Marco er 3 uker.   \n4      0.0                                   Marco er 4 uker.   \n5      0.0                                   Marco er 5 uker.   \n6      0.0                                   Marco er 6 uker.   \n7      4.0  Marco er 7 uker, ble hentet i Åros 26/11 2021....   \n8      NaN  Marco er 8 uker. Første uke på Åsen 43. Begynt...   \n9      NaN                                                NaN   \n\n        Unnamed: 7  Unnamed: 8  \n0              NaN         1.0  \n1              NaN         1.0  \n2              NaN         1.0  \n3              NaN         1.0  \n4              NaN         2.0  \n5              NaN         2.0  \n6              NaN         2.0  \n7  SOSIALISSERING!         2.0  \n8  SOSIALISSERING!         3.0  \n9  SOSIALISSERING!         3.0  ",
      "text/html": "<div>\n<style scoped>\n    .dataframe tbody tr th:only-of-type {\n        vertical-align: middle;\n    }\n\n    .dataframe tbody tr th {\n        vertical-align: top;\n    }\n\n    .dataframe thead th {\n        text-align: right;\n    }\n</style>\n<table border=\"1\" class=\"dataframe\">\n  <thead>\n    <tr style=\"text-align: right;\">\n      <th></th>\n      <th>Ukenummer</th>\n      <th>Ukestart</th>\n      <th>Ukeslutt</th>\n      <th>Range</th>\n      <th>Vekt i gram</th>\n      <th>Tid ute</th>\n      <th>Kommentar</th>\n      <th>Unnamed: 7</th>\n      <th>Unnamed: 8</th>\n    </tr>\n  </thead>\n  <tbody>\n    <tr>\n      <th>0</th>\n      <td>0</td>\n      <td>04.10.2021</td>\n      <td>10.10.2021</td>\n      <td>4/10/2021  til 10/10/2021</td>\n      <td>278.0</td>\n      <td>0.0</td>\n      <td>Marco ble født.</td>\n      <td>NaN</td>\n      <td>1.0</td>\n    </tr>\n    <tr>\n      <th>1</th>\n      <td>1</td>\n      <td>11.10.2021</td>\n      <td>17.10.2021</td>\n      <td>11/10/2021  til 17/10/2021</td>\n      <td>510.0</td>\n      <td>0.0</td>\n      <td>Marco er 1 uke.</td>\n      <td>NaN</td>\n      <td>1.0</td>\n    </tr>\n    <tr>\n      <th>2</th>\n      <td>2</td>\n      <td>18.10.2021</td>\n      <td>24.10.2021</td>\n      <td>18/10/2021  til 24/10/2021</td>\n      <td>900.0</td>\n      <td>0.0</td>\n      <td>Marco er 2 uker.</td>\n      <td>NaN</td>\n      <td>1.0</td>\n    </tr>\n    <tr>\n      <th>3</th>\n      <td>3</td>\n      <td>25.10.2021</td>\n      <td>31.10.2021</td>\n      <td>25/10/2021  til 31/10/2021</td>\n      <td>1272.0</td>\n      <td>0.0</td>\n      <td>Marco er 3 uker.</td>\n      <td>NaN</td>\n      <td>1.0</td>\n    </tr>\n    <tr>\n      <th>4</th>\n      <td>4</td>\n      <td>01.11.2021</td>\n      <td>07.11.2021</td>\n      <td>1/11/2021  til 7/11/2021</td>\n      <td>1530.0</td>\n      <td>0.0</td>\n      <td>Marco er 4 uker.</td>\n      <td>NaN</td>\n      <td>2.0</td>\n    </tr>\n    <tr>\n      <th>5</th>\n      <td>5</td>\n      <td>08.11.2021</td>\n      <td>14.11.2021</td>\n      <td>8/11/2021  til 14/11/2021</td>\n      <td>NaN</td>\n      <td>0.0</td>\n      <td>Marco er 5 uker.</td>\n      <td>NaN</td>\n      <td>2.0</td>\n    </tr>\n    <tr>\n      <th>6</th>\n      <td>6</td>\n      <td>15.11.2021</td>\n      <td>21.11.2021</td>\n      <td>15/11/2021  til 21/11/2021</td>\n      <td>NaN</td>\n      <td>0.0</td>\n      <td>Marco er 6 uker.</td>\n      <td>NaN</td>\n      <td>2.0</td>\n    </tr>\n    <tr>\n      <th>7</th>\n      <td>7</td>\n      <td>22.11.2021</td>\n      <td>28.11.2021</td>\n      <td>22/11/2021  til 28/11/2021</td>\n      <td>NaN</td>\n      <td>4.0</td>\n      <td>Marco er 7 uker, ble hentet i Åros 26/11 2021....</td>\n      <td>SOSIALISSERING!</td>\n      <td>2.0</td>\n    </tr>\n    <tr>\n      <th>8</th>\n      <td>8</td>\n      <td>29.11.2021</td>\n      <td>05.12.2021</td>\n      <td>29/11/2021  til 5/12/2021</td>\n      <td>3100.0</td>\n      <td>NaN</td>\n      <td>Marco er 8 uker. Første uke på Åsen 43. Begynt...</td>\n      <td>SOSIALISSERING!</td>\n      <td>3.0</td>\n    </tr>\n    <tr>\n      <th>9</th>\n      <td>9</td>\n      <td>06.12.2021</td>\n      <td>12.12.2021</td>\n      <td>6/12/2021  til 12/12/2021</td>\n      <td>NaN</td>\n      <td>NaN</td>\n      <td>NaN</td>\n      <td>SOSIALISSERING!</td>\n      <td>3.0</td>\n    </tr>\n  </tbody>\n</table>\n</div>"
     },
     "metadata": {}
    }
   ],
   "execution_count": null
  },
  {
   "cell_type": "code",
   "source": "_deepnote_run_altair(df, \"\"\"{\"$schema\":\"https://vega.github.io/schema/vega-lite/v4.json\",\"mark\":{\"type\":\"bar\",\"tooltip\":{\"content\":\"data\"}},\"height\":220,\"autosize\":{\"type\":\"fit\"},\"data\":{\"name\":\"placeholder\"},\"encoding\":{\"x\":{\"field\":\"Ukenummer\",\"type\":\"quantitative\",\"sort\":null,\"scale\":{\"type\":\"linear\",\"zero\":false}},\"y\":{\"field\":\"Vekt i gram\",\"type\":\"quantitative\",\"sort\":null,\"scale\":{\"type\":\"linear\",\"zero\":true}},\"color\":{\"field\":\"Vekt i gram\",\"type\":\"quantitative\",\"sort\":null,\"scale\":{\"type\":\"linear\",\"zero\":false}}}}\"\"\")",
   "metadata": {
    "cell_id": "00006-7960597e-fce0-4b5b-bda4-dcd6fc89d4cf",
    "deepnote_variable_name": "df",
    "deepnote_visualization_spec": {
     "$schema": "https://vega.github.io/schema/vega-lite/v4.json",
     "mark": {
      "type": "bar",
      "tooltip": {
       "content": "data"
      }
     },
     "height": 220,
     "autosize": {
      "type": "fit"
     },
     "data": {
      "name": "placeholder"
     },
     "encoding": {
      "x": {
       "field": "Ukenummer",
       "type": "quantitative",
       "sort": null,
       "scale": {
        "type": "linear",
        "zero": false
       }
      },
      "y": {
       "field": "Vekt i gram",
       "type": "quantitative",
       "sort": null,
       "scale": {
        "type": "linear",
        "zero": true
       }
      },
      "color": {
       "field": "Vekt i gram",
       "type": "quantitative",
       "sort": null,
       "scale": {
        "type": "linear",
        "zero": false
       }
      }
     }
    },
    "deepnote_to_be_reexecuted": false,
    "source_hash": "3aaa4a4f",
    "execution_start": 1638369229407,
    "execution_millis": 187,
    "deepnote_output_heights": [
     314
    ],
    "deepnote_app_coordinates": {
     "x": 0,
     "y": 56,
     "w": 12,
     "h": 17
    },
    "deepnote_cell_type": "visualization"
   },
   "outputs": [
    {
     "output_type": "execute_result",
     "execution_count": 7,
     "data": {
      "text/html": "\n<div id=\"altair-viz-bbba05f0ac1348279ac94050ad78a810\"></div>\n<script type=\"text/javascript\">\n  (function(spec, embedOpt){\n    let outputDiv = document.currentScript.previousElementSibling;\n    if (outputDiv.id !== \"altair-viz-bbba05f0ac1348279ac94050ad78a810\") {\n      outputDiv = document.getElementById(\"altair-viz-bbba05f0ac1348279ac94050ad78a810\");\n    }\n    const paths = {\n      \"vega\": \"https://cdn.jsdelivr.net/npm//vega@5?noext\",\n      \"vega-lib\": \"https://cdn.jsdelivr.net/npm//vega-lib?noext\",\n      \"vega-lite\": \"https://cdn.jsdelivr.net/npm//vega-lite@4.8.1?noext\",\n      \"vega-embed\": \"https://cdn.jsdelivr.net/npm//vega-embed@6?noext\",\n    };\n\n    function loadScript(lib) {\n      return new Promise(function(resolve, reject) {\n        var s = document.createElement('script');\n        s.src = paths[lib];\n        s.async = true;\n        s.onload = () => resolve(paths[lib]);\n        s.onerror = () => reject(`Error loading script: ${paths[lib]}`);\n        document.getElementsByTagName(\"head\")[0].appendChild(s);\n      });\n    }\n\n    function showError(err) {\n      outputDiv.innerHTML = `<div class=\"error\" style=\"color:red;\">${err}</div>`;\n      throw err;\n    }\n\n    function displayChart(vegaEmbed) {\n      vegaEmbed(outputDiv, spec, embedOpt)\n        .catch(err => showError(`Javascript Error: ${err.message}<br>This usually means there's a typo in your chart specification. See the javascript console for the full traceback.`));\n    }\n\n    if(typeof define === \"function\" && define.amd) {\n      requirejs.config({paths});\n      require([\"vega-embed\"], displayChart, err => showError(`Error loading script: ${err.message}`));\n    } else if (typeof vegaEmbed === \"function\") {\n      displayChart(vegaEmbed);\n    } else {\n      loadScript(\"vega\")\n        .then(() => loadScript(\"vega-lite\"))\n        .then(() => loadScript(\"vega-embed\"))\n        .catch(showError)\n        .then(() => displayChart(vegaEmbed));\n    }\n  })({\"config\": {\"view\": {\"continuousWidth\": 400, \"continuousHeight\": 300}, \"area\": {\"fill\": \"#51C0E9\"}, \"axis\": {\"labelFont\": \"Inter, sans-serif\", \"labelFontSize\": 12, \"labelFontWeight\": \"normal\", \"labelLimit\": 60, \"labelOverlap\": \"greedy\", \"titleFont\": \"Inter, sans-serif\", \"titleFontSize\": 12, \"titleFontWeight\": \"bold\"}, \"background\": \"#ffffff\", \"legend\": {\"labelFont\": \"Inter, sans-serif\", \"labelFontSize\": 12, \"titleFont\": \"Inter, sans-serif\", \"titleFontSize\": 12, \"titleFontWeight\": \"bold\"}, \"line\": {\"stroke\": \"#51C0E9\", \"strokeWidth\": 2}, \"rect\": {\"fill\": \"#51C0E9\"}, \"title\": {\"anchor\": \"start\", \"color\": \"#000000\", \"font\": \"Inter, sans-serif\", \"fontSize\": 22, \"fontWeight\": \"normal\"}}, \"data\": {\"name\": \"data-4c7d8a56154dbce43cb6ceb6ce25bd96\"}, \"mark\": {\"type\": \"bar\", \"tooltip\": {\"content\": \"data\"}}, \"autosize\": {\"type\": \"fit\"}, \"encoding\": {\"color\": {\"type\": \"quantitative\", \"field\": \"Vekt i gram\", \"scale\": {\"type\": \"linear\", \"zero\": false}, \"sort\": null}, \"x\": {\"type\": \"quantitative\", \"field\": \"Ukenummer\", \"scale\": {\"type\": \"linear\", \"zero\": false}, \"sort\": null}, \"y\": {\"type\": \"quantitative\", \"field\": \"Vekt i gram\", \"scale\": {\"type\": \"linear\", \"zero\": true}, \"sort\": null}}, \"height\": 300, \"width\": \"container\", \"$schema\": \"https://vega.github.io/schema/vega-lite/v4.json\", \"datasets\": {\"data-4c7d8a56154dbce43cb6ceb6ce25bd96\": [{\"Ukenummer\": 0, \"Ukestart\": \"2021-04-10T00:00:00\", \"Ukeslutt\": \"2021-10-10T00:00:00\", \"Range\": \"4/10/2021  til 10/10/2021\", \"Vekt i gram\": 278.0, \"Tid ute\": 0.0, \"Kommentar\": \"Marco ble f\\u00f8dt.\", \"Unnamed: 7\": null, \"Unnamed: 8\": 1.0}, {\"Ukenummer\": 1, \"Ukestart\": \"2021-11-10T00:00:00\", \"Ukeslutt\": \"2021-10-17T00:00:00\", \"Range\": \"11/10/2021  til 17/10/2021\", \"Vekt i gram\": 510.0, \"Tid ute\": 0.0, \"Kommentar\": \"Marco er 1 uke.\", \"Unnamed: 7\": null, \"Unnamed: 8\": 1.0}, {\"Ukenummer\": 2, \"Ukestart\": \"2021-10-18T00:00:00\", \"Ukeslutt\": \"2021-10-24T00:00:00\", \"Range\": \"18/10/2021  til 24/10/2021\", \"Vekt i gram\": 900.0, \"Tid ute\": 0.0, \"Kommentar\": \"Marco er 2 uker.\", \"Unnamed: 7\": null, \"Unnamed: 8\": 1.0}, {\"Ukenummer\": 3, \"Ukestart\": \"2021-10-25T00:00:00\", \"Ukeslutt\": \"2021-10-31T00:00:00\", \"Range\": \"25/10/2021  til 31/10/2021\", \"Vekt i gram\": 1272.0, \"Tid ute\": 0.0, \"Kommentar\": \"Marco er 3 uker.\", \"Unnamed: 7\": null, \"Unnamed: 8\": 1.0}, {\"Ukenummer\": 4, \"Ukestart\": \"2021-01-11T00:00:00\", \"Ukeslutt\": \"2021-07-11T00:00:00\", \"Range\": \"1/11/2021  til 7/11/2021\", \"Vekt i gram\": 1530.0, \"Tid ute\": 0.0, \"Kommentar\": \"Marco er 4 uker.\", \"Unnamed: 7\": null, \"Unnamed: 8\": 2.0}, {\"Ukenummer\": 5, \"Ukestart\": \"2021-08-11T00:00:00\", \"Ukeslutt\": \"2021-11-14T00:00:00\", \"Range\": \"8/11/2021  til 14/11/2021\", \"Vekt i gram\": null, \"Tid ute\": 0.0, \"Kommentar\": \"Marco er 5 uker.\", \"Unnamed: 7\": null, \"Unnamed: 8\": 2.0}, {\"Ukenummer\": 6, \"Ukestart\": \"2021-11-15T00:00:00\", \"Ukeslutt\": \"2021-11-21T00:00:00\", \"Range\": \"15/11/2021  til 21/11/2021\", \"Vekt i gram\": null, \"Tid ute\": 0.0, \"Kommentar\": \"Marco er 6 uker.\", \"Unnamed: 7\": null, \"Unnamed: 8\": 2.0}, {\"Ukenummer\": 7, \"Ukestart\": \"2021-11-22T00:00:00\", \"Ukeslutt\": \"2021-11-28T00:00:00\", \"Range\": \"22/11/2021  til 28/11/2021\", \"Vekt i gram\": null, \"Tid ute\": 4.0, \"Kommentar\": \"Marco er 7 uker, ble hentet i \\u00c5ros 26/11 2021. Kom til sitt nye hjem p\\u00e5 \\u00c5sen 43 i Ulsteinvik 27/11 2021. Fikk sitt f\\u00f8rste bad 28 november kl. 14:00.\", \"Unnamed: 7\": \"SOSIALISSERING!\", \"Unnamed: 8\": 2.0}, {\"Ukenummer\": 8, \"Ukestart\": \"2021-11-29T00:00:00\", \"Ukeslutt\": \"2021-05-12T00:00:00\", \"Range\": \"29/11/2021  til 5/12/2021\", \"Vekt i gram\": 3100.0, \"Tid ute\": null, \"Kommentar\": \"Marco er 8 uker. F\\u00f8rste uke p\\u00e5 \\u00c5sen 43. Begynt med \\\"sitt\\\" og \\\"Marco\\\".\", \"Unnamed: 7\": \"SOSIALISSERING!\", \"Unnamed: 8\": 3.0}, {\"Ukenummer\": 9, \"Ukestart\": \"2021-06-12T00:00:00\", \"Ukeslutt\": \"2021-12-12T00:00:00\", \"Range\": \"6/12/2021  til 12/12/2021\", \"Vekt i gram\": null, \"Tid ute\": null, \"Kommentar\": null, \"Unnamed: 7\": \"SOSIALISSERING!\", \"Unnamed: 8\": 3.0}, {\"Ukenummer\": 10, \"Ukestart\": \"2021-12-13T00:00:00\", \"Ukeslutt\": \"2021-12-19T00:00:00\", \"Range\": \"13/12/2021  til 19/12/2021\", \"Vekt i gram\": null, \"Tid ute\": null, \"Kommentar\": null, \"Unnamed: 7\": \"SOSIALISSERING!\", \"Unnamed: 8\": 3.0}, {\"Ukenummer\": 11, \"Ukestart\": \"2021-12-20T00:00:00\", \"Ukeslutt\": \"2021-12-26T00:00:00\", \"Range\": \"20/12/2021  til 26/12/2021\", \"Vekt i gram\": null, \"Tid ute\": null, \"Kommentar\": null, \"Unnamed: 7\": \"SOSIALISSERING!\", \"Unnamed: 8\": 3.0}, {\"Ukenummer\": 12, \"Ukestart\": \"2021-12-27T00:00:00\", \"Ukeslutt\": \"2022-02-01T00:00:00\", \"Range\": \"27/12/2021  til 2/1/2022\", \"Vekt i gram\": null, \"Tid ute\": null, \"Kommentar\": null, \"Unnamed: 7\": \"SOSIALISSERING!\", \"Unnamed: 8\": 4.0}, {\"Ukenummer\": 13, \"Ukestart\": \"2022-03-01T00:00:00\", \"Ukeslutt\": \"2022-09-01T00:00:00\", \"Range\": \"3/1/2022  til 9/1/2022\", \"Vekt i gram\": null, \"Tid ute\": null, \"Kommentar\": null, \"Unnamed: 7\": \"SOSIALISSERING!\", \"Unnamed: 8\": 4.0}, {\"Ukenummer\": 14, \"Ukestart\": \"2022-10-01T00:00:00\", \"Ukeslutt\": \"2022-01-16T00:00:00\", \"Range\": \"10/1/2022  til 16/1/2022\", \"Vekt i gram\": null, \"Tid ute\": null, \"Kommentar\": null, \"Unnamed: 7\": \"SOSIALISSERING!\", \"Unnamed: 8\": 4.0}, {\"Ukenummer\": 15, \"Ukestart\": \"2022-01-17T00:00:00\", \"Ukeslutt\": \"2022-01-23T00:00:00\", \"Range\": \"17/1/2022  til 23/1/2022\", \"Vekt i gram\": null, \"Tid ute\": null, \"Kommentar\": null, \"Unnamed: 7\": null, \"Unnamed: 8\": 4.0}, {\"Ukenummer\": 16, \"Ukestart\": \"2022-01-24T00:00:00\", \"Ukeslutt\": \"2022-01-30T00:00:00\", \"Range\": \"24/1/2022  til 30/1/2022\", \"Vekt i gram\": null, \"Tid ute\": null, \"Kommentar\": null, \"Unnamed: 7\": null, \"Unnamed: 8\": 5.0}, {\"Ukenummer\": 17, \"Ukestart\": \"2022-01-31T00:00:00\", \"Ukeslutt\": \"2022-06-02T00:00:00\", \"Range\": \"31/1/2022  til 6/2/2022\", \"Vekt i gram\": null, \"Tid ute\": null, \"Kommentar\": null, \"Unnamed: 7\": null, \"Unnamed: 8\": 5.0}, {\"Ukenummer\": 18, \"Ukestart\": \"2022-07-02T00:00:00\", \"Ukeslutt\": \"2022-02-13T00:00:00\", \"Range\": \"7/2/2022  til 13/2/2022\", \"Vekt i gram\": null, \"Tid ute\": null, \"Kommentar\": null, \"Unnamed: 7\": null, \"Unnamed: 8\": 5.0}, {\"Ukenummer\": 19, \"Ukestart\": \"2022-02-14T00:00:00\", \"Ukeslutt\": \"2022-02-20T00:00:00\", \"Range\": \"14/2/2022  til 20/2/2022\", \"Vekt i gram\": null, \"Tid ute\": null, \"Kommentar\": null, \"Unnamed: 7\": null, \"Unnamed: 8\": 5.0}, {\"Ukenummer\": 20, \"Ukestart\": \"2022-02-21T00:00:00\", \"Ukeslutt\": \"2022-02-27T00:00:00\", \"Range\": \"21/2/2022  til 27/2/2022\", \"Vekt i gram\": null, \"Tid ute\": null, \"Kommentar\": null, \"Unnamed: 7\": null, \"Unnamed: 8\": 6.0}, {\"Ukenummer\": 21, \"Ukestart\": \"2022-02-28T00:00:00\", \"Ukeslutt\": \"2022-06-03T00:00:00\", \"Range\": \"28/2/2022  til 6/3/2022\", \"Vekt i gram\": null, \"Tid ute\": null, \"Kommentar\": null, \"Unnamed: 7\": null, \"Unnamed: 8\": 6.0}, {\"Ukenummer\": 22, \"Ukestart\": \"2022-07-03T00:00:00\", \"Ukeslutt\": \"2022-03-13T00:00:00\", \"Range\": \"7/3/2022  til 13/3/2022\", \"Vekt i gram\": null, \"Tid ute\": null, \"Kommentar\": null, \"Unnamed: 7\": null, \"Unnamed: 8\": 6.0}, {\"Ukenummer\": 23, \"Ukestart\": \"2022-03-14T00:00:00\", \"Ukeslutt\": \"2022-03-20T00:00:00\", \"Range\": \"14/3/2022  til 20/3/2022\", \"Vekt i gram\": null, \"Tid ute\": null, \"Kommentar\": null, \"Unnamed: 7\": null, \"Unnamed: 8\": 6.0}, {\"Ukenummer\": 24, \"Ukestart\": \"2022-03-21T00:00:00\", \"Ukeslutt\": \"2022-03-27T00:00:00\", \"Range\": \"21/3/2022  til 27/3/2022\", \"Vekt i gram\": null, \"Tid ute\": null, \"Kommentar\": null, \"Unnamed: 7\": null, \"Unnamed: 8\": 7.0}, {\"Ukenummer\": 25, \"Ukestart\": \"2022-03-28T00:00:00\", \"Ukeslutt\": \"2022-03-04T00:00:00\", \"Range\": \"28/3/2022  til 3/4/2022\", \"Vekt i gram\": null, \"Tid ute\": null, \"Kommentar\": null, \"Unnamed: 7\": null, \"Unnamed: 8\": 7.0}, {\"Ukenummer\": 26, \"Ukestart\": \"2022-04-04T00:00:00\", \"Ukeslutt\": \"2022-10-04T00:00:00\", \"Range\": \"4/4/2022  til 10/4/2022\", \"Vekt i gram\": null, \"Tid ute\": null, \"Kommentar\": null, \"Unnamed: 7\": null, \"Unnamed: 8\": 7.0}, {\"Ukenummer\": 27, \"Ukestart\": \"2022-11-04T00:00:00\", \"Ukeslutt\": \"2022-04-17T00:00:00\", \"Range\": \"11/4/2022  til 17/4/2022\", \"Vekt i gram\": null, \"Tid ute\": null, \"Kommentar\": null, \"Unnamed: 7\": null, \"Unnamed: 8\": 7.0}, {\"Ukenummer\": 28, \"Ukestart\": \"2022-04-18T00:00:00\", \"Ukeslutt\": \"2022-04-24T00:00:00\", \"Range\": \"18/4/2022  til 24/4/2022\", \"Vekt i gram\": null, \"Tid ute\": null, \"Kommentar\": null, \"Unnamed: 7\": null, \"Unnamed: 8\": null}, {\"Ukenummer\": 29, \"Ukestart\": \"2022-04-25T00:00:00\", \"Ukeslutt\": \"2022-01-05T00:00:00\", \"Range\": \"25/4/2022  til 1/5/2022\", \"Vekt i gram\": null, \"Tid ute\": null, \"Kommentar\": null, \"Unnamed: 7\": null, \"Unnamed: 8\": null}, {\"Ukenummer\": 30, \"Ukestart\": \"2022-02-05T00:00:00\", \"Ukeslutt\": \"2022-08-05T00:00:00\", \"Range\": \"2/5/2022  til 8/5/2022\", \"Vekt i gram\": null, \"Tid ute\": null, \"Kommentar\": null, \"Unnamed: 7\": null, \"Unnamed: 8\": null}, {\"Ukenummer\": 31, \"Ukestart\": \"2022-09-05T00:00:00\", \"Ukeslutt\": \"2022-05-15T00:00:00\", \"Range\": \"9/5/2022  til 15/5/2022\", \"Vekt i gram\": null, \"Tid ute\": null, \"Kommentar\": null, \"Unnamed: 7\": null, \"Unnamed: 8\": null}, {\"Ukenummer\": 32, \"Ukestart\": \"2022-05-16T00:00:00\", \"Ukeslutt\": \"2022-05-22T00:00:00\", \"Range\": \"16/5/2022  til 22/5/2022\", \"Vekt i gram\": null, \"Tid ute\": null, \"Kommentar\": null, \"Unnamed: 7\": null, \"Unnamed: 8\": null}, {\"Ukenummer\": 33, \"Ukestart\": \"2022-05-23T00:00:00\", \"Ukeslutt\": \"2022-05-29T00:00:00\", \"Range\": \"23/5/2022  til 29/5/2022\", \"Vekt i gram\": null, \"Tid ute\": null, \"Kommentar\": null, \"Unnamed: 7\": null, \"Unnamed: 8\": null}, {\"Ukenummer\": 34, \"Ukestart\": \"2022-05-30T00:00:00\", \"Ukeslutt\": \"2022-05-06T00:00:00\", \"Range\": \"30/5/2022  til 5/6/2022\", \"Vekt i gram\": null, \"Tid ute\": null, \"Kommentar\": null, \"Unnamed: 7\": null, \"Unnamed: 8\": null}, {\"Ukenummer\": 35, \"Ukestart\": \"2022-06-06T00:00:00\", \"Ukeslutt\": \"2022-12-06T00:00:00\", \"Range\": \"6/6/2022  til 12/6/2022\", \"Vekt i gram\": null, \"Tid ute\": null, \"Kommentar\": null, \"Unnamed: 7\": null, \"Unnamed: 8\": null}, {\"Ukenummer\": 36, \"Ukestart\": \"2022-06-13T00:00:00\", \"Ukeslutt\": \"2022-06-19T00:00:00\", \"Range\": \"13/6/2022  til 19/6/2022\", \"Vekt i gram\": null, \"Tid ute\": null, \"Kommentar\": null, \"Unnamed: 7\": null, \"Unnamed: 8\": null}, {\"Ukenummer\": 37, \"Ukestart\": \"2022-06-20T00:00:00\", \"Ukeslutt\": \"2022-06-26T00:00:00\", \"Range\": \"20/6/2022  til 26/6/2022\", \"Vekt i gram\": null, \"Tid ute\": null, \"Kommentar\": null, \"Unnamed: 7\": null, \"Unnamed: 8\": null}, {\"Ukenummer\": 38, \"Ukestart\": \"2022-06-27T00:00:00\", \"Ukeslutt\": \"2022-03-07T00:00:00\", \"Range\": \"27/6/2022  til 3/7/2022\", \"Vekt i gram\": null, \"Tid ute\": null, \"Kommentar\": null, \"Unnamed: 7\": null, \"Unnamed: 8\": null}, {\"Ukenummer\": 39, \"Ukestart\": \"2022-04-07T00:00:00\", \"Ukeslutt\": \"2022-10-07T00:00:00\", \"Range\": \"4/7/2022  til 10/7/2022\", \"Vekt i gram\": null, \"Tid ute\": null, \"Kommentar\": null, \"Unnamed: 7\": null, \"Unnamed: 8\": null}, {\"Ukenummer\": 40, \"Ukestart\": \"2022-11-07T00:00:00\", \"Ukeslutt\": \"2022-07-17T00:00:00\", \"Range\": \"11/7/2022  til 17/7/2022\", \"Vekt i gram\": null, \"Tid ute\": null, \"Kommentar\": null, \"Unnamed: 7\": null, \"Unnamed: 8\": null}, {\"Ukenummer\": 41, \"Ukestart\": \"2022-07-18T00:00:00\", \"Ukeslutt\": \"2022-07-24T00:00:00\", \"Range\": \"18/7/2022  til 24/7/2022\", \"Vekt i gram\": null, \"Tid ute\": null, \"Kommentar\": null, \"Unnamed: 7\": null, \"Unnamed: 8\": null}, {\"Ukenummer\": 42, \"Ukestart\": \"2022-07-25T00:00:00\", \"Ukeslutt\": \"2022-07-31T00:00:00\", \"Range\": \"25/7/2022  til 31/7/2022\", \"Vekt i gram\": null, \"Tid ute\": null, \"Kommentar\": null, \"Unnamed: 7\": null, \"Unnamed: 8\": null}, {\"Ukenummer\": 43, \"Ukestart\": \"2022-01-08T00:00:00\", \"Ukeslutt\": \"2022-07-08T00:00:00\", \"Range\": \"1/8/2022  til 7/8/2022\", \"Vekt i gram\": null, \"Tid ute\": null, \"Kommentar\": null, \"Unnamed: 7\": null, \"Unnamed: 8\": null}, {\"Ukenummer\": 44, \"Ukestart\": \"2022-08-08T00:00:00\", \"Ukeslutt\": \"2022-08-14T00:00:00\", \"Range\": \"8/8/2022  til 14/8/2022\", \"Vekt i gram\": null, \"Tid ute\": null, \"Kommentar\": null, \"Unnamed: 7\": null, \"Unnamed: 8\": null}, {\"Ukenummer\": 45, \"Ukestart\": \"2022-08-15T00:00:00\", \"Ukeslutt\": \"2022-08-21T00:00:00\", \"Range\": \"15/8/2022  til 21/8/2022\", \"Vekt i gram\": null, \"Tid ute\": null, \"Kommentar\": null, \"Unnamed: 7\": null, \"Unnamed: 8\": null}, {\"Ukenummer\": 46, \"Ukestart\": \"2022-08-22T00:00:00\", \"Ukeslutt\": \"2022-08-28T00:00:00\", \"Range\": \"22/8/2022  til 28/8/2022\", \"Vekt i gram\": null, \"Tid ute\": null, \"Kommentar\": null, \"Unnamed: 7\": null, \"Unnamed: 8\": null}, {\"Ukenummer\": 47, \"Ukestart\": \"2022-08-29T00:00:00\", \"Ukeslutt\": \"2022-04-09T00:00:00\", \"Range\": \"29/8/2022  til 4/9/2022\", \"Vekt i gram\": null, \"Tid ute\": null, \"Kommentar\": null, \"Unnamed: 7\": null, \"Unnamed: 8\": null}, {\"Ukenummer\": 48, \"Ukestart\": \"2022-05-09T00:00:00\", \"Ukeslutt\": \"2022-11-09T00:00:00\", \"Range\": \"5/9/2022  til 11/9/2022\", \"Vekt i gram\": null, \"Tid ute\": null, \"Kommentar\": null, \"Unnamed: 7\": null, \"Unnamed: 8\": null}, {\"Ukenummer\": 49, \"Ukestart\": \"2022-12-09T00:00:00\", \"Ukeslutt\": \"2022-09-18T00:00:00\", \"Range\": \"12/9/2022  til 18/9/2022\", \"Vekt i gram\": null, \"Tid ute\": null, \"Kommentar\": null, \"Unnamed: 7\": null, \"Unnamed: 8\": null}, {\"Ukenummer\": 50, \"Ukestart\": \"2022-09-19T00:00:00\", \"Ukeslutt\": \"2022-09-25T00:00:00\", \"Range\": \"19/9/2022  til 25/9/2022\", \"Vekt i gram\": null, \"Tid ute\": null, \"Kommentar\": null, \"Unnamed: 7\": null, \"Unnamed: 8\": null}, {\"Ukenummer\": 51, \"Ukestart\": \"2022-09-26T00:00:00\", \"Ukeslutt\": \"2022-02-10T00:00:00\", \"Range\": \"26/9/2022  til 2/10/2022\", \"Vekt i gram\": null, \"Tid ute\": null, \"Kommentar\": null, \"Unnamed: 7\": null, \"Unnamed: 8\": null}, {\"Ukenummer\": 52, \"Ukestart\": \"2022-03-10T00:00:00\", \"Ukeslutt\": \"2022-09-10T00:00:00\", \"Range\": \"3/10/2022  til 9/10/2022\", \"Vekt i gram\": null, \"Tid ute\": null, \"Kommentar\": null, \"Unnamed: 7\": \"1 \\u00e5r\", \"Unnamed: 8\": null}]}}, {\"actions\": false, \"mode\": \"vega-lite\"});\n</script>",
      "text/plain": "alt.Chart(...)"
     },
     "metadata": {}
    }
   ],
   "execution_count": null
  },
  {
   "cell_type": "markdown",
   "source": "<a style='text-decoration:none;line-height:16px;display:flex;color:#5B5B62;padding:10px;justify-content:end;' href='https://deepnote.com?utm_source=created-in-deepnote-cell&projectId=dcd7c8d5-0347-4c27-b6a6-d521e7ae828a' target=\"_blank\">\n<img alt='Created in deepnote.com' style='display:inline;max-height:16px;margin:0px;margin-right:7.5px;' src='data:image/svg+xml;base64,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' > </img>\nCreated in <span style='font-weight:600;margin-left:4px;'>Deepnote</span></a>",
   "metadata": {
    "tags": [],
    "created_in_deepnote_cell": true,
    "deepnote_cell_type": "markdown"
   }
  }
 ],
 "nbformat": 4,
 "nbformat_minor": 2,
 "metadata": {
  "orig_nbformat": 2,
  "deepnote": {
   "is_reactive": false
  },
  "deepnote_notebook_id": "a9f0ac3f-77ce-4695-8929-85718a4975dc",
  "deepnote_execution_queue": [],
  "deepnote_app_layout": "article"
 }
}